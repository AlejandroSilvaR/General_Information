{
 "cells": [
  {
   "cell_type": "markdown",
   "id": "996593ae",
   "metadata": {},
   "source": [
    "<head>\n",
    "    <br>\n",
    "    <h1 style=\"text-align:center\"><Strong>Briefing para Proyectos de Ciencia de Datos con Machine Learning</strong></h1>\n",
    "    <h3 style=\"text-align:center\"> Ing. Alejandro Silva Ramírez</h3>\n",
    "    <br><br><br>\n",
    "    <p style=\"text-align:center;font-size:13px\">Documento descriptivo que muestra el procedimiento típico para el desarrollo de un proyecto, con ejemplos, utilizando Ciencia de Datos y Machine Learning, con el objetivo de extraer información relevante, como patrones, datos estadísticos y hacer predicciones para mejorar la toma de decisiones acerca de un tema específico. En forma general, el procedimiento para lograr dicho análisis se divide en 4 secciónes. La definición del proyecto, el pre-procesamiento, procesamiento y post-procesamiento de datos. </p>\n",
    "    <br><br>\n",
    "</head>"
   ]
  },
  {
   "cell_type": "markdown",
   "id": "11f43b6f-afd9-4f9e-afa7-bcd57a5635a0",
   "metadata": {},
   "source": [
    "---\n",
    "\n",
    "<font color='red'><h2> **Pre-Procesamiento:** </h2></font>"
   ]
  },
  {
   "cell_type": "markdown",
   "id": "2f3dd0f5-5f67-499c-a993-0e58f183d493",
   "metadata": {},
   "source": [
    "### **1. Preparación de datos:**\n",
    "#### - Recolectar datos y almacenarlos en DataFrames (Pandas).\n",
    "#### - Comprobar legalidades y regulaciones para el manejo de datos.\n",
    "#### - Mostrar información inicial básica.\n",
    "#### - Visualización más apropiada de datos.\n",
    "#### - Identificación de sesgos.\n",
    "#### - Verificar y analizar patrones en la consistencia de las unidades.\n",
    "#### - Analizar patrones en datos faltantes.\n",
    "#### - Analizar patrones en datos repetidos.\n",
    "#### - Analizar patrones en datos atípicos.\n",
    "#### - Analizar patrones en datos erroneos."
   ]
  },
  {
   "cell_type": "markdown",
   "id": "f2e53577",
   "metadata": {},
   "source": [
    "### **2. Limpieza de datos:**\n",
    "#### - Eliminar o completar datos faltantes.\n",
    "#### - Eliminar datos repetidos.\n",
    "#### - Eliminar datos atípicos de ser necesario.\n",
    "#### - Eliminar datos irrelevantes.\n",
    "#### - Estructuración de datos y segmentación."
   ]
  },
  {
   "cell_type": "markdown",
   "id": "88b8eab8",
   "metadata": {},
   "source": [
    "---\n",
    "\n",
    "<font color='red'><h2> **Procesamiento:** </h2></font>"
   ]
  },
  {
   "cell_type": "markdown",
   "id": "84fe5018",
   "metadata": {},
   "source": [
    "### **3. Correlaciones:**\n",
    "#### - Joint plot y Pair plot.\n",
    "#### - Tabla de correlación.\n",
    "#### - Tabla pivote."
   ]
  },
  {
   "cell_type": "markdown",
   "id": "47adb4e3",
   "metadata": {},
   "source": [
    "### **4. Análisis probabilístico y estadístico de los datos:**\n",
    "#### - Hallar valores estadísticos.\n",
    "#### - Encontrar funciones de distribución que se asemejen a los datos (PDF y CDF).\n",
    "#### - Regresiones y pruebas de hipótesis.\n",
    "#### - En caso de requerir probabilidades (Hacer simulaciónes de Monte Carlo y tablas de utilidad)."
   ]
  },
  {
   "cell_type": "markdown",
   "id": "51151cda",
   "metadata": {},
   "source": [
    "### **5. Extracción de información extra:**\n",
    "#### - Mapas de calor, graficación sobre un maps.\n",
    "#### - Análisis de texto y nube de palabras.\n",
    "#### - Featuring Engineering."
   ]
  },
  {
   "cell_type": "markdown",
   "id": "88b5e6ec",
   "metadata": {},
   "source": [
    "### **6. Preparación para Machine Learning:**\n",
    "#### - Escalado, normalización y estandarización.\n",
    "#### - Diseño y estructuración de datos para modelado.\n",
    "#### - Definición de modelos de predicción e hiperparámetros iniciales."
   ]
  },
  {
   "cell_type": "markdown",
   "id": "83f1a730",
   "metadata": {},
   "source": [
    "---\n",
    "\n",
    "<font color='red'><h2> **Post-Procesamiento:** </h2></font>"
   ]
  },
  {
   "cell_type": "markdown",
   "id": "35ab8a67",
   "metadata": {},
   "source": [
    "### **7. Optimización del modelo de predicción:**\n",
    "#### - Entrenamiento, resultados y comparación de modelos iniciales (Validación Cruzada).\n",
    "#### - Balanceo de datos.\n",
    "#### - Re-entrenamiento y comparativa con datos balanceados.\n",
    "#### - Sintonización y busqueda de hiperparámetros para todos los modelos sin balancear.\n",
    "#### - Sintonización y busqueda de hiperparámetros para todos los modelos balanceados.\n",
    "#### - Comparación entre todos los modelos.\n",
    "#### - Selección de modelo final (Evaluación de clasificación y desempeño final).\n",
    "#### - Prueba de funcionamiento y evaluación con características previas halladas.\n",
    "#### - Montaje de app para la predicción."
   ]
  }
 ],
 "metadata": {
  "kernelspec": {
   "display_name": "base",
   "language": "python",
   "name": "python3"
  },
  "language_info": {
   "codemirror_mode": {
    "name": "ipython",
    "version": 3
   },
   "file_extension": ".py",
   "mimetype": "text/x-python",
   "name": "python",
   "nbconvert_exporter": "python",
   "pygments_lexer": "ipython3",
   "version": "3.12.7"
  }
 },
 "nbformat": 4,
 "nbformat_minor": 5
}
